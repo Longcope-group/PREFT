{
 "cells": [
  {
   "cell_type": "code",
   "execution_count": 1,
   "id": "b3a7da0e",
   "metadata": {},
   "outputs": [],
   "source": [
    "import numpy as np\n",
    "from load_save import Tarr"
   ]
  },
  {
   "cell_type": "code",
   "execution_count": 2,
   "id": "1cc10f4c",
   "metadata": {},
   "outputs": [],
   "source": [
    "pth = '/Users/ashfield/dat/'\n",
    "fn = 's3_f2c50k05r10.sav'"
   ]
  },
  {
   "cell_type": "code",
   "execution_count": 3,
   "id": "8cc9a109",
   "metadata": {},
   "outputs": [],
   "source": [
    "tarr = Tarr(pth+fn)"
   ]
  },
  {
   "cell_type": "code",
   "execution_count": 6,
   "id": "93535f11",
   "metadata": {},
   "outputs": [
    {
     "data": {
      "text/plain": [
       "(8593, 610, 3)"
      ]
     },
     "execution_count": 6,
     "metadata": {},
     "output_type": "execute_result"
    }
   ],
   "source": [
    "tarr.x.shape"
   ]
  },
  {
   "cell_type": "code",
   "execution_count": 5,
   "id": "59546e46",
   "metadata": {},
   "outputs": [
    {
     "name": "stdout",
     "output_type": "stream",
     "text": [
      "('N', 'TIME', 'GAM', 'X', 'V', 'L', 'DL', 'DL_E', 'DM', 'TV', 'TV_E', 'K', 'RHO', 'T', 'P', 'B', 'DB', 'A_DRAG', 'DRAG_CONST', 'GPAR', 'DVN', 'MU', 'KAP', 'HEAT', 'DRAG_HEAT', 'NTE_HEAT', 'RAD_LOSS', 'NET_ERG_LOSS', 'DRAG_LOSS', 'NET_RAD_LOSS', 'MPP', 'EPAMU', 'MU0', 'KAP0', 'INV_HFLF', 'DRAG_PARAMS', 'VA', 'WP', 'WM', 'ALFVEN_PARAMS', 'TURB_HEAT', 'DVA', 'RHO_E', 'KAP_OLD', 'P_GAS', 'DRAG_FLUX', 'DOTZ', 'DWP', 'DWM', 'SOURCE', 'SINK_P', 'SINK_M', 'DVA_P', 'DVA_M', 'DAMP', 'IREF_L', 'IREF_R')\n"
     ]
    }
   ],
   "source": [
    "tarr.print_var()"
   ]
  },
  {
   "cell_type": "code",
   "execution_count": null,
   "id": "c5972d4d",
   "metadata": {},
   "outputs": [],
   "source": []
  }
 ],
 "metadata": {
  "kernelspec": {
   "display_name": "Python 3 (ipykernel)",
   "language": "python",
   "name": "python3"
  },
  "language_info": {
   "codemirror_mode": {
    "name": "ipython",
    "version": 3
   },
   "file_extension": ".py",
   "mimetype": "text/x-python",
   "name": "python",
   "nbconvert_exporter": "python",
   "pygments_lexer": "ipython3",
   "version": "3.11.0"
  }
 },
 "nbformat": 4,
 "nbformat_minor": 5
}
